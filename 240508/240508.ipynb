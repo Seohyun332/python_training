{
 "cells": [
  {
   "cell_type": "code",
   "execution_count": 3,
   "metadata": {},
   "outputs": [
    {
     "name": "stdout",
     "output_type": "stream",
     "text": [
      "Hello World!\n"
     ]
    }
   ],
   "source": [
    "print(\"Hello World!\")"
   ]
  },
  {
   "cell_type": "code",
   "execution_count": 4,
   "metadata": {},
   "outputs": [
    {
     "name": "stdout",
     "output_type": "stream",
     "text": [
      "{'1/1': 2133, '0/1': 6031, '1/2': 78}\n"
     ]
    }
   ],
   "source": [
    "import gzip\n",
    "\n",
    "counts = dict()\n",
    "\n",
    "with gzip.open(\"./raw/sample.ann.vcf.gz\", \"rt\") as file:\n",
    "    for line in file:\n",
    "        if line.startswith(\"##\"):\n",
    "            continue\n",
    "\n",
    "        if line.startswith(\"#\"):\n",
    "            header = line.strip().split(\"\\t\")\n",
    "            format_idx = header.index(\"FORMAT\")\n",
    "            sample_idx = header.index(\"sample\")\n",
    "            continue\n",
    "\n",
    "        format = line.strip().split(\"\\t\")[format_idx]\n",
    "        sample = line.strip().split(\"\\t\")[sample_idx]\n",
    "\n",
    "        GT_idx = format.split(\":\").index(\"GT\")\n",
    "\n",
    "        target = sample.split(\":\")[GT_idx].replace(\"|\", \"/\")\n",
    "\n",
    "        if target not in counts:\n",
    "            counts[target] = 0  ## 초기화\n",
    "        counts[target] += 1\n",
    "\n",
    "print(counts)"
   ]
  },
  {
   "cell_type": "code",
   "execution_count": 5,
   "metadata": {},
   "outputs": [],
   "source": [
    "## Data libs\n",
    "\n",
    "\n",
    "import pandas as pd\n",
    "import numpy as np\n",
    "import matplotlib as mpl\n",
    "import matplotlib.pyplot as plt\n",
    "import seaborn as sns\n",
    "\n"
   ]
  },
  {
   "cell_type": "code",
   "execution_count": 8,
   "metadata": {},
   "outputs": [
    {
     "name": "stdout",
     "output_type": "stream",
     "text": [
      "<class 'pandas.core.frame.DataFrame'>\n"
     ]
    },
    {
     "data": {
      "text/html": [
       "<div>\n",
       "<style scoped>\n",
       "    .dataframe tbody tr th:only-of-type {\n",
       "        vertical-align: middle;\n",
       "    }\n",
       "\n",
       "    .dataframe tbody tr th {\n",
       "        vertical-align: top;\n",
       "    }\n",
       "\n",
       "    .dataframe thead th {\n",
       "        text-align: right;\n",
       "    }\n",
       "</style>\n",
       "<table border=\"1\" class=\"dataframe\">\n",
       "  <thead>\n",
       "    <tr style=\"text-align: right;\">\n",
       "      <th></th>\n",
       "      <th>Name</th>\n",
       "      <th>Systolic</th>\n",
       "      <th>Diastolic</th>\n",
       "    </tr>\n",
       "  </thead>\n",
       "  <tbody>\n",
       "    <tr>\n",
       "      <th>0</th>\n",
       "      <td>Person1</td>\n",
       "      <td>122</td>\n",
       "      <td>79</td>\n",
       "    </tr>\n",
       "    <tr>\n",
       "      <th>1</th>\n",
       "      <td>Person2</td>\n",
       "      <td>134</td>\n",
       "      <td>88</td>\n",
       "    </tr>\n",
       "    <tr>\n",
       "      <th>2</th>\n",
       "      <td>Person3</td>\n",
       "      <td>110</td>\n",
       "      <td>76</td>\n",
       "    </tr>\n",
       "  </tbody>\n",
       "</table>\n",
       "</div>"
      ],
      "text/plain": [
       "      Name  Systolic  Diastolic\n",
       "0  Person1       122         79\n",
       "1  Person2       134         88\n",
       "2  Person3       110         76"
      ]
     },
     "execution_count": 8,
     "metadata": {},
     "output_type": "execute_result"
    }
   ],
   "source": [
    "##make DataFrame\n",
    "\n",
    "df = pd.DataFrame(\n",
    "    {\n",
    "        'Name':[\"Person1\", \"Person2\", \"Person3\"],\n",
    "        'Systolic':[122,134,110],\n",
    "        'Diastolic':[79, 88, 76]\n",
    "    }\n",
    ")\n",
    "\n",
    "print(type(df))\n",
    "df"
   ]
  },
  {
   "cell_type": "code",
   "execution_count": 12,
   "metadata": {},
   "outputs": [
    {
     "data": {
      "text/plain": [
       "(array([0, 1, 2]),\n",
       " [Text(0, 0, 'Person1'), Text(1, 0, 'Person2'), Text(2, 0, 'Person3')])"
      ]
     },
     "execution_count": 12,
     "metadata": {},
     "output_type": "execute_result"
    },
    {
     "data": {
      "image/png": "[encoded data removed]",
      "text/plain": [
       "<Figure size 640x480 with 1 Axes>"
      ]
     },
     "metadata": {},
     "output_type": "display_data"
    }
   ],
   "source": [
    "df.plot(\n",
    "    x='Name', y=['Systolic', 'Diastolic'], \n",
    "    kind=\"bar\",\n",
    "    title=\"Blood Pressure\",\n",
    "    ylabel=\"mmHg\",\n",
    "    \n",
    ") ## pandas plot\n",
    "\n",
    "plt.xticks(rotation=0)"
   ]
  },
  {
   "cell_type": "code",
   "execution_count": 18,
   "metadata": {},
   "outputs": [
    {
     "data": {
      "text/html": [
       "<div>\n",
       "<style scoped>\n",
       "    .dataframe tbody tr th:only-of-type {\n",
       "        vertical-align: middle;\n",
       "    }\n",
       "\n",
       "    .dataframe tbody tr th {\n",
       "        vertical-align: top;\n",
       "    }\n",
       "\n",
       "    .dataframe thead th {\n",
       "        text-align: right;\n",
       "    }\n",
       "</style>\n",
       "<table border=\"1\" class=\"dataframe\">\n",
       "  <thead>\n",
       "    <tr style=\"text-align: right;\">\n",
       "      <th></th>\n",
       "      <th>genotype</th>\n",
       "      <th>counts</th>\n",
       "    </tr>\n",
       "  </thead>\n",
       "  <tbody>\n",
       "    <tr>\n",
       "      <th>0</th>\n",
       "      <td>1/1</td>\n",
       "      <td>2133</td>\n",
       "    </tr>\n",
       "    <tr>\n",
       "      <th>1</th>\n",
       "      <td>0/1</td>\n",
       "      <td>6031</td>\n",
       "    </tr>\n",
       "    <tr>\n",
       "      <th>2</th>\n",
       "      <td>1/2</td>\n",
       "      <td>78</td>\n",
       "    </tr>\n",
       "  </tbody>\n",
       "</table>\n",
       "</div>"
      ],
      "text/plain": [
       "  genotype  counts\n",
       "0      1/1    2133\n",
       "1      0/1    6031\n",
       "2      1/2      78"
      ]
     },
     "execution_count": 18,
     "metadata": {},
     "output_type": "execute_result"
    }
   ],
   "source": [
    "gt_data = {'genotype':counts.keys(), 'counts': counts.values()}\n",
    "\n",
    "gt = pd.DataFrame(gt_data)\n",
    "\n",
    "gt"
   ]
  },
  {
   "cell_type": "code",
   "execution_count": 19,
   "metadata": {},
   "outputs": [
    {
     "name": "stdout",
     "output_type": "stream",
     "text": [
      "<class 'pandas.core.frame.DataFrame'>\n",
      "RangeIndex: 3 entries, 0 to 2\n",
      "Data columns (total 2 columns):\n",
      " #   Column    Non-Null Count  Dtype \n",
      "---  ------    --------------  ----- \n",
      " 0   genotype  3 non-null      object\n",
      " 1   counts    3 non-null      int64 \n",
      "dtypes: int64(1), object(1)\n",
      "memory usage: 176.0+ bytes\n"
     ]
    }
   ],
   "source": [
    "gt.info()"
   ]
  },
  {
   "cell_type": "code",
   "execution_count": 22,
   "metadata": {},
   "outputs": [
    {
     "data": {
      "text/plain": [
       "(array([0, 1, 2]), [Text(0, 0, '1/1'), Text(1, 0, '0/1'), Text(2, 0, '1/2')])"
      ]
     },
     "execution_count": 22,
     "metadata": {},
     "output_type": "execute_result"
    },
    {
     "data": {
      "image/png": "[encoded data removed]",
      "text/plain": [
       "<Figure size 640x480 with 1 Axes>"
      ]
     },
     "metadata": {},
     "output_type": "display_data"
    }
   ],
   "source": [
    "gt.plot(\n",
    "    x='genotype', y='counts', \n",
    "    kind=\"bar\",\n",
    "    title=\"Genotype count\",\n",
    "    ylabel=\"counts\",\n",
    "    \n",
    ") ## pandas plot\n",
    "\n",
    "plt.xticks(rotation=0)"
   ]
  },
  {
   "cell_type": "code",
   "execution_count": 25,
   "metadata": {},
   "outputs": [
    {
     "data": {
      "text/plain": [
       "(array([0, 1, 2, 3]),\n",
       " [Text(0, 0, 'A'), Text(1, 0, 'T'), Text(2, 0, 'G'), Text(3, 0, 'C')])"
      ]
     },
     "execution_count": 25,
     "metadata": {},
     "output_type": "execute_result"
    },
    {
     "data": {
      "image/png": "[encoded data removed]",
      "text/plain": [
       "<Figure size 640x480 with 1 Axes>"
      ]
     },
     "metadata": {},
     "output_type": "display_data"
    }
   ],
   "source": [
    "seq = \"\"\n",
    "with open(\"./raw/NC_045512.fasta\") as file:\n",
    "    for line in file:\n",
    "        if line.startswith(\">\"):\n",
    "            continue\n",
    "\n",
    "        seq += line.strip()  # enter del\n",
    "\n",
    "seq_df = pd.DataFrame(\n",
    "    {\n",
    "        'Base':['A','T','G','C'],\n",
    "        'Count':[seq.count(\"A\"), seq.count(\"T\"), seq.count(\"G\"), seq.count(\"C\")]\n",
    "    }\n",
    ")\n",
    "\n",
    "seq_df.plot(\n",
    "    x='Base', y='Count', \n",
    "    kind=\"bar\",\n",
    "    title=\"covid-19 fasta base counts\",\n",
    "    ylabel=\"counts\",\n",
    "    \n",
    ") ## pandas plot\n",
    "\n",
    "plt.xticks(rotation=0)"
   ]
  },
  {
   "cell_type": "code",
   "execution_count": null,
   "metadata": {},
   "outputs": [],
   "source": []
  }
 ],
 "metadata": {
  "kernelspec": {
   "display_name": "Python 3",
   "language": "python",
   "name": "python3"
  },
  "language_info": {
   "codemirror_mode": {
    "name": "ipython",
    "version": 3
   },
   "file_extension": ".py",
   "mimetype": "text/x-python",
   "name": "python",
   "nbconvert_exporter": "python",
   "pygments_lexer": "ipython3",
   "version": "3.8.7"
  }
 },
 "nbformat": 4,
 "nbformat_minor": 2
}
