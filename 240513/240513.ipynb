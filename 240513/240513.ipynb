{
 "cells": [
  {
   "cell_type": "code",
   "execution_count": 1,
   "metadata": {},
   "outputs": [
    {
     "name": "stdout",
     "output_type": "stream",
     "text": [
      "1.83\n"
     ]
    }
   ],
   "source": [
    "import Bio\n",
    "\n",
    "print(Bio.__version__)"
   ]
  },
  {
   "cell_type": "code",
   "execution_count": 12,
   "metadata": {},
   "outputs": [
    {
     "name": "stdout",
     "output_type": "stream",
     "text": [
      "<Bio.SeqIO.FastaIO.FastaIterator object at 0x00000210B63429A0>\n"
     ]
    }
   ],
   "source": [
    "from Bio import SeqIO\n",
    "\n",
    "fasta_file = './raw/test.fasta'\n",
    "\n",
    "sequences = SeqIO.parse(fasta_file, 'fasta')\n",
    "\n",
    "print(sequences)"
   ]
  },
  {
   "cell_type": "code",
   "execution_count": 13,
   "metadata": {},
   "outputs": [
    {
     "name": "stdout",
     "output_type": "stream",
     "text": [
      "test\n",
      "ATTAAAGGTTTATACCTTCCCAGGTAACAAACCAACCAACTTTCGATCTCTTGTAGATCTGTTCTCTAAACGAACTTTAAAATCTGTGTGGCTGTCACTCGGCTGCATGCTTAGTGCACTCACGCAGTATAATTAATAAC\n"
     ]
    }
   ],
   "source": [
    "for sequence in sequences:\n",
    "    print(sequence.id)\n",
    "    print(sequence.seq)"
   ]
  },
  {
   "cell_type": "code",
   "execution_count": 14,
   "metadata": {},
   "outputs": [
    {
     "name": "stdout",
     "output_type": "stream",
     "text": [
      "test1\n",
      "ATTAAAGGTTTATACCTTCCCAGGTAACAAACCAACCAACTTTCGATCTCTTGTAGATCTGTTCTCTAAACGAACTTTAAAATCTGTGTGGCTGTCACTCGGCTGCATGCTTAGTGCACTCACGCAGTATAATTAATAAC\n",
      "test2\n",
      "TAATTACTGTCGTTGACAGGACACGAGTAACTCGTCTATCTTCTGCAGGCTGCTTACGGTTTCGTCCGTGTTGCAGCCGATCATCAGCACATCTAGGTTTCGTCCGGGTGTGACCGAAAGGTAAGATGGAGAGCCTTGTC\n"
     ]
    }
   ],
   "source": [
    "fasta_file = './raw/test2.fasta'\n",
    "\n",
    "sequences = SeqIO.parse(fasta_file, 'fasta')\n",
    "\n",
    "for sequence in sequences:\n",
    "    print(sequence.id)\n",
    "    print(sequence.seq)"
   ]
  },
  {
   "cell_type": "code",
   "execution_count": 18,
   "metadata": {},
   "outputs": [
    {
     "name": "stdout",
     "output_type": "stream",
     "text": [
      "{'A': 41, 'T': 44, 'G': 22, 'C': 33}\n",
      "  base  counts\n",
      "0    A      41\n",
      "1    T      44\n",
      "2    G      22\n",
      "3    C      33\n"
     ]
    }
   ],
   "source": [
    "# count 하기\n",
    "\n",
    "fasta_file = './raw/test.fasta'\n",
    "\n",
    "sequences = SeqIO.parse(fasta_file, 'fasta')\n",
    "data =dict()\n",
    "for sequence in sequences:\n",
    "    for base in sequence.seq:\n",
    "        if base not in data:\n",
    "            data[base] = 0\n",
    "        data[base] +=1\n",
    "\n",
    "print(data)\n",
    "\n",
    "import pandas as pd\n",
    "import numpy as np\n",
    "import matplotlib as mpl\n",
    "import matplotlib.pyplot as plt\n",
    "import seaborn as sns\n",
    "seq_df = pd.DataFrame(\n",
    "    {\n",
    "        'base':data.keys(),\n",
    "        'counts': data.values()\n",
    "    }\n",
    ")\n",
    "\n",
    "print(seq_df)"
   ]
  },
  {
   "cell_type": "code",
   "execution_count": 19,
   "metadata": {},
   "outputs": [
    {
     "data": {
      "text/plain": [
       "(array([0, 1, 2, 3]),\n",
       " [Text(0, 0, 'A'), Text(1, 0, 'T'), Text(2, 0, 'G'), Text(3, 0, 'C')])"
      ]
     },
     "execution_count": 19,
     "metadata": {},
     "output_type": "execute_result"
    },
    {
     "data": {
      "image/png": "[encoded data removed]",
      "text/plain": [
       "<Figure size 640x480 with 1 Axes>"
      ]
     },
     "metadata": {},
     "output_type": "display_data"
    }
   ],
   "source": [
    "seq_df.plot(\n",
    "    x='base', y='counts', \n",
    "    kind=\"bar\",\n",
    "    title=\"fasta base counts\",\n",
    "    ylabel=\"Counts\",\n",
    ") \n",
    "plt.xticks(rotation=0)\n"
   ]
  },
  {
   "cell_type": "code",
   "execution_count": 22,
   "metadata": {},
   "outputs": [
    {
     "name": "stdout",
     "output_type": "stream",
     "text": [
      "[{'A': 41, 'T': 44, 'G': 22, 'C': 33}, {'T': 40, 'A': 29, 'C': 33, 'G': 38}]\n",
      "0 {'A': 41, 'T': 44, 'G': 22, 'C': 33}\n",
      "1 {'T': 40, 'A': 29, 'C': 33, 'G': 38}\n",
      "{'base': dict_keys(['A', 'T', 'G', 'C']), 'count0': [41, 44, 22, 33], 'count1': [29, 40, 38, 33]}\n"
     ]
    },
    {
     "data": {
      "text/html": [
       "<div>\n",
       "<style scoped>\n",
       "    .dataframe tbody tr th:only-of-type {\n",
       "        vertical-align: middle;\n",
       "    }\n",
       "\n",
       "    .dataframe tbody tr th {\n",
       "        vertical-align: top;\n",
       "    }\n",
       "\n",
       "    .dataframe thead th {\n",
       "        text-align: right;\n",
       "    }\n",
       "</style>\n",
       "<table border=\"1\" class=\"dataframe\">\n",
       "  <thead>\n",
       "    <tr style=\"text-align: right;\">\n",
       "      <th></th>\n",
       "      <th>base</th>\n",
       "      <th>count0</th>\n",
       "      <th>count1</th>\n",
       "    </tr>\n",
       "  </thead>\n",
       "  <tbody>\n",
       "    <tr>\n",
       "      <th>0</th>\n",
       "      <td>A</td>\n",
       "      <td>41</td>\n",
       "      <td>29</td>\n",
       "    </tr>\n",
       "    <tr>\n",
       "      <th>1</th>\n",
       "      <td>T</td>\n",
       "      <td>44</td>\n",
       "      <td>40</td>\n",
       "    </tr>\n",
       "    <tr>\n",
       "      <th>2</th>\n",
       "      <td>G</td>\n",
       "      <td>22</td>\n",
       "      <td>38</td>\n",
       "    </tr>\n",
       "    <tr>\n",
       "      <th>3</th>\n",
       "      <td>C</td>\n",
       "      <td>33</td>\n",
       "      <td>33</td>\n",
       "    </tr>\n",
       "  </tbody>\n",
       "</table>\n",
       "</div>"
      ],
      "text/plain": [
       "  base  count0  count1\n",
       "0    A      41      29\n",
       "1    T      44      40\n",
       "2    G      22      38\n",
       "3    C      33      33"
      ]
     },
     "execution_count": 22,
     "metadata": {},
     "output_type": "execute_result"
    }
   ],
   "source": [
    "# 2개 샘플 count 하기\n",
    "\n",
    "fasta_file = './raw/test2.fasta'\n",
    "\n",
    "sequences = SeqIO.parse(fasta_file, 'fasta')\n",
    "data_all = list()\n",
    "for sequence in sequences:\n",
    "    data =dict()\n",
    "    for base in sequence.seq:\n",
    "        if base not in data:\n",
    "            data[base] = 0\n",
    "        data[base] +=1\n",
    "    data_all.append(data)\n",
    "\n",
    "print(data_all)\n",
    "\n",
    "\n",
    "df_base ={'base':data_all[0].keys()}\n",
    "\n",
    "for i, data in enumerate(data_all): # 인덱스-요소 매칭\n",
    "    print(i, data)\n",
    "    df_base[f'count{i}'] = [data['A'],data['T'],data['G'],data['C'] ] # 딕셔너리 생성 \n",
    "\n",
    "print(df_base)\n",
    "df = pd.DataFrame(df_base) # 데이터 프레임 생성할 수 있는 구조\n",
    "\n",
    "df"
   ]
  },
  {
   "cell_type": "code",
   "execution_count": 33,
   "metadata": {},
   "outputs": [
    {
     "name": "stdout",
     "output_type": "stream",
     "text": [
      "[{'A': 41, 'C': 33, 'G': 22, 'T': 44}, {'A': 29, 'C': 33, 'G': 38, 'T': 40}]\n"
     ]
    },
    {
     "data": {
      "text/html": [
       "<div>\n",
       "<style scoped>\n",
       "    .dataframe tbody tr th:only-of-type {\n",
       "        vertical-align: middle;\n",
       "    }\n",
       "\n",
       "    .dataframe tbody tr th {\n",
       "        vertical-align: top;\n",
       "    }\n",
       "\n",
       "    .dataframe thead th {\n",
       "        text-align: right;\n",
       "    }\n",
       "</style>\n",
       "<table border=\"1\" class=\"dataframe\">\n",
       "  <thead>\n",
       "    <tr style=\"text-align: right;\">\n",
       "      <th></th>\n",
       "      <th>base</th>\n",
       "      <th>count1</th>\n",
       "      <th>count2</th>\n",
       "    </tr>\n",
       "  </thead>\n",
       "  <tbody>\n",
       "    <tr>\n",
       "      <th>0</th>\n",
       "      <td>A</td>\n",
       "      <td>41</td>\n",
       "      <td>29</td>\n",
       "    </tr>\n",
       "    <tr>\n",
       "      <th>1</th>\n",
       "      <td>C</td>\n",
       "      <td>33</td>\n",
       "      <td>33</td>\n",
       "    </tr>\n",
       "    <tr>\n",
       "      <th>2</th>\n",
       "      <td>G</td>\n",
       "      <td>22</td>\n",
       "      <td>38</td>\n",
       "    </tr>\n",
       "    <tr>\n",
       "      <th>3</th>\n",
       "      <td>T</td>\n",
       "      <td>44</td>\n",
       "      <td>40</td>\n",
       "    </tr>\n",
       "  </tbody>\n",
       "</table>\n",
       "</div>"
      ],
      "text/plain": [
       "  base  count1  count2\n",
       "0    A      41      29\n",
       "1    C      33      33\n",
       "2    G      22      38\n",
       "3    T      44      40"
      ]
     },
     "execution_count": 33,
     "metadata": {},
     "output_type": "execute_result"
    }
   ],
   "source": [
    "# 2개 샘플 count 하기 - sort\n",
    "\n",
    "fasta_file = './raw/test2.fasta'\n",
    "\n",
    "sequences = SeqIO.parse(fasta_file, 'fasta')\n",
    "data_all = list()\n",
    "for sequence in sequences:\n",
    "    data =dict()\n",
    "    for base in sequence.seq:\n",
    "        if base not in data:\n",
    "            data[base] = 0\n",
    "        data[base] +=1\n",
    "    data_all.append(dict(sorted(data.items())))\n",
    "\n",
    "print(data_all)\n",
    "\n",
    "\n",
    "seq_df = pd.DataFrame(\n",
    "    {\n",
    "        'base':data_all[0].keys(),\n",
    "        'count1': data_all[0].values(),\n",
    "        'count2': data_all[1].values(),\n",
    "    }\n",
    ")\n",
    "seq_df\n"
   ]
  },
  {
   "cell_type": "code",
   "execution_count": 23,
   "metadata": {},
   "outputs": [
    {
     "data": {
      "text/plain": [
       "(array([0, 1, 2, 3]),\n",
       " [Text(0, 0, 'A'), Text(1, 0, 'T'), Text(2, 0, 'G'), Text(3, 0, 'C')])"
      ]
     },
     "execution_count": 23,
     "metadata": {},
     "output_type": "execute_result"
    },
    {
     "data": {
      "image/png": "[encoded data removed]",
      "text/plain": [
       "<Figure size 640x480 with 1 Axes>"
      ]
     },
     "metadata": {},
     "output_type": "display_data"
    }
   ],
   "source": [
    "df.plot(\n",
    "    x='base',\n",
    "    kind=\"bar\",\n",
    "    title=\"fasta base counts\",\n",
    "    ylabel=\"Counts\",\n",
    ") \n",
    "plt.xticks(rotation=0)"
   ]
  },
  {
   "cell_type": "code",
   "execution_count": 24,
   "metadata": {},
   "outputs": [
    {
     "name": "stdout",
     "output_type": "stream",
     "text": [
      "[{'A': 41, 'T': 44, 'G': 22, 'C': 33}, {'T': 40, 'A': 29, 'C': 33, 'G': 38}, {'C': 33, 'T': 37, 'G': 38, 'A': 32}]\n",
      "0 {'A': 41, 'T': 44, 'G': 22, 'C': 33}\n",
      "1 {'T': 40, 'A': 29, 'C': 33, 'G': 38}\n",
      "2 {'C': 33, 'T': 37, 'G': 38, 'A': 32}\n",
      "{'base': dict_keys(['A', 'T', 'G', 'C']), 'count0': [41, 44, 22, 33], 'count1': [29, 40, 38, 33], 'count2': [32, 37, 38, 33]}\n"
     ]
    }
   ],
   "source": [
    "# 3개 샘플 count 하기\n",
    "\n",
    "fasta_file = './raw/test3.fasta'\n",
    "\n",
    "sequences = SeqIO.parse(fasta_file, 'fasta')\n",
    "data_all = list()\n",
    "for sequence in sequences:\n",
    "    data =dict()\n",
    "    for base in sequence.seq:\n",
    "        if base not in data:\n",
    "            data[base] = 0\n",
    "        data[base] +=1\n",
    "    data_all.append(data)\n",
    "\n",
    "print(data_all)\n",
    "\n",
    "\n",
    "df_base ={'base':data_all[0].keys()}\n",
    "\n",
    "for i, data in enumerate(data_all): # 인덱스-요소 매칭\n",
    "    print(i, data)\n",
    "    df_base[f'count{i}'] = [data['A'],data['T'],data['G'],data['C'] ] # 딕셔너리 생성 \n",
    "\n",
    "print(df_base)\n",
    "df = pd.DataFrame(df_base) # 데이터프레임 만들 수 있는 딕셔너리 구조 \n"
   ]
  },
  {
   "cell_type": "code",
   "execution_count": 25,
   "metadata": {},
   "outputs": [
    {
     "data": {
      "text/plain": [
       "(array([0, 1, 2, 3]),\n",
       " [Text(0, 0, 'A'), Text(1, 0, 'T'), Text(2, 0, 'G'), Text(3, 0, 'C')])"
      ]
     },
     "execution_count": 25,
     "metadata": {},
     "output_type": "execute_result"
    },
    {
     "data": {
      "image/png": "[encoded data removed]",
      "text/plain": [
       "<Figure size 640x480 with 1 Axes>"
      ]
     },
     "metadata": {},
     "output_type": "display_data"
    }
   ],
   "source": [
    "df.plot(\n",
    "    x='base',\n",
    "    kind=\"bar\",\n",
    "    title=\"fasta base counts\",\n",
    "    ylabel=\"Counts\",\n",
    ")  #y를 모두 주면 됨(입력 안할 시 )\n",
    "plt.xticks(rotation=0)"
   ]
  },
  {
   "cell_type": "code",
   "execution_count": 27,
   "metadata": {},
   "outputs": [
    {
     "data": {
      "text/plain": [
       "(array([0, 1, 2, 3]),\n",
       " [Text(0, 0, 'A'), Text(1, 0, 'T'), Text(2, 0, 'G'), Text(3, 0, 'C')])"
      ]
     },
     "execution_count": 27,
     "metadata": {},
     "output_type": "execute_result"
    },
    {
     "data": {
      "image/png": "[encoded data removed]",
      "text/plain": [
       "<Figure size 640x480 with 1 Axes>"
      ]
     },
     "metadata": {},
     "output_type": "display_data"
    }
   ],
   "source": [
    "df.plot(\n",
    "    x='base', y=['count0','count2'],\n",
    "    kind=\"bar\",\n",
    "    title=\"fasta base counts\",\n",
    "    ylabel=\"Counts\",\n",
    ")  #y를 모두 주면 됨(입력 안할 시 )\n",
    "plt.xticks(rotation=0)"
   ]
  },
  {
   "cell_type": "code",
   "execution_count": 28,
   "metadata": {},
   "outputs": [
    {
     "name": "stdout",
     "output_type": "stream",
     "text": [
      "{'A': 8954, 'T': 9594, 'G': 5863, 'C': 5492}\n",
      "  base  counts\n",
      "0    A    8954\n",
      "1    T    9594\n",
      "2    G    5863\n",
      "3    C    5492\n"
     ]
    }
   ],
   "source": [
    "### gene bank 읽기\n",
    "\n",
    "\n",
    "fasta_file = './raw/NC_045512.gb'\n",
    "\n",
    "sequences = SeqIO.parse(fasta_file, 'genbank')\n",
    "\n",
    "data =dict()\n",
    "for sequence in sequences:\n",
    "    for base in sequence.seq:\n",
    "        if base not in data:\n",
    "            data[base] = 0\n",
    "        data[base] +=1\n",
    "\n",
    "\n",
    "print(data)\n",
    "\n",
    "\n",
    "seq_df = pd.DataFrame(\n",
    "    {\n",
    "        'base':data.keys(),\n",
    "        'counts': data.values()\n",
    "    }\n",
    ")\n",
    "\n",
    "print(seq_df)\n",
    "\n"
   ]
  },
  {
   "cell_type": "code",
   "execution_count": 30,
   "metadata": {},
   "outputs": [
    {
     "data": {
      "text/plain": [
       "(array([0, 1, 2, 3]),\n",
       " [Text(0, 0, 'A'), Text(1, 0, 'T'), Text(2, 0, 'G'), Text(3, 0, 'C')])"
      ]
     },
     "execution_count": 30,
     "metadata": {},
     "output_type": "execute_result"
    },
    {
     "data": {
      "image/png": "[encoded data removed]",
      "text/plain": [
       "<Figure size 640x480 with 1 Axes>"
      ]
     },
     "metadata": {},
     "output_type": "display_data"
    }
   ],
   "source": [
    "seq_df.plot(\n",
    "    x='base', y='counts',\n",
    "    kind=\"bar\",\n",
    "    title=\"covid-19 genbank base counts\",\n",
    "    ylabel=\"Counts\",\n",
    ")  \n",
    "plt.xticks(rotation=0)"
   ]
  },
  {
   "cell_type": "code",
   "execution_count": null,
   "metadata": {},
   "outputs": [],
   "source": []
  }
 ],
 "metadata": {
  "kernelspec": {
   "display_name": "Python 3",
   "language": "python",
   "name": "python3"
  },
  "language_info": {
   "codemirror_mode": {
    "name": "ipython",
    "version": 3
   },
   "file_extension": ".py",
   "mimetype": "text/x-python",
   "name": "python",
   "nbconvert_exporter": "python",
   "pygments_lexer": "ipython3",
   "version": "3.8.7"
  }
 },
 "nbformat": 4,
 "nbformat_minor": 2
}
